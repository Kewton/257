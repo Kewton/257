{
  "nbformat": 4,
  "nbformat_minor": 0,
  "metadata": {
    "kernelspec": {
      "name": "python3",
      "display_name": "Python 3"
    },
    "language_info": {
      "name": "python"
    }
  },
  "cells": [
    {
      "cell_type": "markdown",
      "metadata": {
        "id": "1UtR3I_R-FyD"
      },
      "source": [
        "# SQLiteを操作する用のクラスの定義"
      ]
    },
    {
      "cell_type": "code",
      "metadata": {
        "id": "S5HHpKtJTrf8"
      },
      "source": [
        "import time\n",
        "import sqlite3\n",
        "\n",
        "class StopWatch:\n",
        "    '''\n",
        "    処理時間計測\n",
        "    '''\n",
        "    def sw_start(self):\n",
        "      self.__starttime = time.time()\n",
        "      return\n",
        "    \n",
        "    def sw_stop(self):\n",
        "      print(\"■処理時間：\")\n",
        "      print(f\"{time.time() - self.__starttime}[sec]\")\n",
        "      return \n",
        "\n",
        "class Sqlite3Access:\n",
        "  # 必要に応じて変更して下さい\n",
        "  __colab_dir = \"/content/drive/MyDrive/Colab Notebooks/\"\n",
        "  \n",
        "  def __init__(self, _db_name):\n",
        "    self.db_name = _db_name\n",
        "    self.sw = StopWatch()\n",
        "    return\n",
        "  \n",
        "  def _connect(self):\n",
        "    '''\n",
        "    すでに存在すればコネクションをはる\n",
        "    存在しなければ新たに作成する\n",
        "    '''\n",
        "    self.conn = sqlite3.connect(self.__colab_dir + self.db_name + \".db\")\n",
        "    return\n",
        "\n",
        "  def _getCursor(self):\n",
        "    '''\n",
        "    sqliteを操作するためのカーソルを取得する\n",
        "    '''\n",
        "    self._connect()\n",
        "    return self.conn.cursor()\n",
        "\n",
        "  def select(self, _sql):\n",
        "    '''\n",
        "    select\n",
        "    '''\n",
        "    # SQLiteを操作するためのカーソルを作成\n",
        "    cur = self._getCursor()\n",
        "    try:\n",
        "      # データ検索\n",
        "      cur.execute(_sql)\n",
        "    except Exception as e:\n",
        "      print(\"例外args:\", e.args)\n",
        "      print(\"コネクションをクローズしました\")\n",
        "      self.conn.close()\n",
        "      return null\n",
        "    \n",
        "    # 大量データの取り出しを考慮してカーソルのままretrunする\n",
        "    return cur\n",
        "\n",
        "  def execute(self, _sql) -> bool:\n",
        "    '''\n",
        "    create\n",
        "    insert\n",
        "    updaet\n",
        "    delete\n",
        "    '''\n",
        "    # SQLiteを操作するためのカーソルを作成\n",
        "    cur = self._getCursor()\n",
        "\n",
        "    try:\n",
        "      self.sw.sw_start()\n",
        "      \n",
        "      # データ登録\n",
        "      cur.execute(_sql)\n",
        "\n",
        "      # コミットしないと登録が反映されない\n",
        "      self.conn.commit()\n",
        "    except Exception as e:\n",
        "      self.sw.sw_stop()\n",
        "      print(\"例外args:\", e.args)\n",
        "      print(\"コネクションをクローズしました\")\n",
        "      self.conn.close()\n",
        "      return False\n",
        "    \n",
        "    self.sw.sw_stop()\n",
        "    self.conn.close()\n",
        "    return True \n",
        "\n",
        "  def executemany(self, _list, _sql):\n",
        "    '''\n",
        "    create\n",
        "    insert\n",
        "    updaet\n",
        "    delete\n",
        "    '''\n",
        "    # SQLiteを操作するためのカーソルを作成\n",
        "    cur = self._getCursor()\n",
        "\n",
        "    try:\n",
        "      self.sw.sw_start()\n",
        "      \n",
        "      # 複数データ登録\n",
        "      cur.executemany(_sql, _list)\n",
        "\n",
        "      # コミットしないと登録が反映されない\n",
        "      self.conn.commit()\n",
        "    except Exception as e:\n",
        "      self.sw.sw_stop()\n",
        "      print(\"例外args:\", e.args)\n",
        "      print(\"コネクションをクローズしました\")\n",
        "      self.conn.close()\n",
        "      return False\n",
        "    self.sw.sw_stop()\n",
        "    self.conn.close()\n",
        "    return True\n",
        "  \n",
        "  def printSelect(self, _sql):\n",
        "    '''\n",
        "    select結果をコンソールに出力する\n",
        "    '''\n",
        "    print(\"■実行SQL：\")\n",
        "    print(_sql)\n",
        "    print(\"■実行結果：\")\n",
        "    self.sw.sw_start()\n",
        "    for row in self.select(_sql):\n",
        "        print(row)\n",
        "    self.sw.sw_stop()"
      ],
      "execution_count": 1,
      "outputs": []
    },
    {
      "cell_type": "markdown",
      "metadata": {
        "id": "zSJAAYI8fDA7"
      },
      "source": [
        "# Googleドライブのマウント"
      ]
    },
    {
      "cell_type": "code",
      "metadata": {
        "id": "_30vWWOBYjQ0",
        "colab": {
          "base_uri": "https://localhost:8080/"
        },
        "outputId": "59bf072c-7f37-4852-fe92-37e4c8c134ef"
      },
      "source": [
        "# Googleドライブのマウント\n",
        "from google.colab import drive\n",
        "drive.mount('/content/drive')"
      ],
      "execution_count": 2,
      "outputs": [
        {
          "output_type": "stream",
          "name": "stdout",
          "text": [
            "Mounted at /content/drive\n"
          ]
        }
      ]
    },
    {
      "cell_type": "markdown",
      "metadata": {
        "id": "H7OygQIsfIdR"
      },
      "source": [
        "# メイン処理"
      ]
    },
    {
      "cell_type": "markdown",
      "metadata": {
        "id": "vkVlSJrVfKzo"
      },
      "source": [
        "## 初期化"
      ]
    },
    {
      "cell_type": "code",
      "metadata": {
        "colab": {
          "base_uri": "https://localhost:8080/",
          "height": 34
        },
        "id": "9Qocn5KyUziv",
        "outputId": "a4bf99fd-c428-4c76-a587-17a53ca5c497"
      },
      "source": [
        "test = Sqlite3Access(\"test2\")\n",
        "test.db_name"
      ],
      "execution_count": 3,
      "outputs": [
        {
          "output_type": "execute_result",
          "data": {
            "application/vnd.google.colaboratory.intrinsic+json": {
              "type": "string"
            },
            "text/plain": [
              "'test2'"
            ]
          },
          "metadata": {},
          "execution_count": 3
        }
      ]
    },
    {
      "cell_type": "markdown",
      "metadata": {
        "id": "DdVA__YUfVZe"
      },
      "source": [
        "## テーブルの作成"
      ]
    },
    {
      "cell_type": "code",
      "metadata": {
        "colab": {
          "base_uri": "https://localhost:8080/"
        },
        "id": "iIJHjzPAfYQq",
        "outputId": "34b78049-6198-47eb-baea-d5e7c34428a6"
      },
      "source": [
        "# create文を作成\n",
        "_sql =  \"\"\"\\\n",
        "CREATE TABLE testtable(id INTEGER PRIMARY KEY AUTOINCREMENT, key STRING, val STRING)\n",
        "\"\"\"\n",
        "\n",
        "# create文を実行\n",
        "test.execute(_sql)"
      ],
      "execution_count": 4,
      "outputs": [
        {
          "output_type": "stream",
          "name": "stdout",
          "text": [
            "■処理時間：\n",
            "0.02193760871887207[sec]\n"
          ]
        },
        {
          "output_type": "execute_result",
          "data": {
            "text/plain": [
              "True"
            ]
          },
          "metadata": {},
          "execution_count": 4
        }
      ]
    },
    {
      "cell_type": "markdown",
      "metadata": {
        "id": "aEjzssswfn74"
      },
      "source": [
        "## データの登録（1レコード）"
      ]
    },
    {
      "cell_type": "code",
      "metadata": {
        "colab": {
          "base_uri": "https://localhost:8080/"
        },
        "id": "7snjpEVCfrzO",
        "outputId": "96e2149d-252f-4b88-9969-77926487a692"
      },
      "source": [
        "# insert文を作成\n",
        "_sql =  \"\"\"\\\n",
        "INSERT INTO testtable(key,val) values('あ行', 'あいうえお')\n",
        "\"\"\"\n",
        "\n",
        "test.execute(_sql)"
      ],
      "execution_count": 5,
      "outputs": [
        {
          "output_type": "stream",
          "name": "stdout",
          "text": [
            "■処理時間：\n",
            "0.0117340087890625[sec]\n"
          ]
        },
        {
          "output_type": "execute_result",
          "data": {
            "text/plain": [
              "True"
            ]
          },
          "metadata": {},
          "execution_count": 5
        }
      ]
    },
    {
      "cell_type": "markdown",
      "metadata": {
        "id": "rrlUnXY1f6AS"
      },
      "source": [
        "## データの取得（1レコード）"
      ]
    },
    {
      "cell_type": "code",
      "metadata": {
        "colab": {
          "base_uri": "https://localhost:8080/"
        },
        "id": "w5-Z0_cFf8jz",
        "outputId": "6486481f-785a-44b0-a097-2d20ea24bae8"
      },
      "source": [
        "# select文を作成\n",
        "_sql = \"\"\"\\\n",
        "select * \n",
        "from testtable\n",
        "\"\"\"\n",
        "\n",
        "test.printSelect(_sql)"
      ],
      "execution_count": 6,
      "outputs": [
        {
          "output_type": "stream",
          "name": "stdout",
          "text": [
            "■実行SQL：\n",
            "select * \n",
            "from testtable\n",
            "\n",
            "■実行結果：\n",
            "(1, 'あ行', 'あいうえお')\n",
            "■処理時間：\n",
            "0.00792551040649414[sec]\n"
          ]
        }
      ]
    },
    {
      "cell_type": "markdown",
      "metadata": {
        "id": "lY-ifV6egU4U"
      },
      "source": [
        "## データの登録（複数レコード）"
      ]
    },
    {
      "cell_type": "code",
      "metadata": {
        "colab": {
          "base_uri": "https://localhost:8080/"
        },
        "id": "5L7R47cVgXO1",
        "outputId": "cd337bb3-12fd-4b48-cea8-fc3ca86721db"
      },
      "source": [
        "# insert文を使用して複数レコードを同時に登録する\n",
        "inserts = []\n",
        "inserts.append((\"か行\",\"かきくけこ\"))\n",
        "inserts.append((\"さ行\",\"さしすせそ\"))\n",
        "inserts.append((\"た行\",\"たちつてと\"))\n",
        "\n",
        "test.executemany(inserts, 'INSERT INTO testtable(key,val) values(?, ?)')"
      ],
      "execution_count": 7,
      "outputs": [
        {
          "output_type": "stream",
          "name": "stdout",
          "text": [
            "■処理時間：\n",
            "0.012566566467285156[sec]\n"
          ]
        },
        {
          "output_type": "execute_result",
          "data": {
            "text/plain": [
              "True"
            ]
          },
          "metadata": {},
          "execution_count": 7
        }
      ]
    },
    {
      "cell_type": "markdown",
      "metadata": {
        "id": "AkO8j0DBgl0P"
      },
      "source": [
        "## データの取得（件数指定）"
      ]
    },
    {
      "cell_type": "code",
      "metadata": {
        "colab": {
          "base_uri": "https://localhost:8080/"
        },
        "id": "_dOYVIoGgtCw",
        "outputId": "bd5befdd-2ec6-4c9a-9ea4-6aef63fd1291"
      },
      "source": [
        "# select文を作成、先頭3レコードのみを取得\n",
        "_sql = \"\"\"\\\n",
        "select * \n",
        "from testtable\n",
        "-- 先頭3レコードのみを取得\n",
        "limit 3\n",
        "\"\"\"\n",
        "\n",
        "test.printSelect(_sql)"
      ],
      "execution_count": 8,
      "outputs": [
        {
          "output_type": "stream",
          "name": "stdout",
          "text": [
            "■実行SQL：\n",
            "select * \n",
            "from testtable\n",
            "-- 先頭3レコードのみを取得\n",
            "limit 3\n",
            "\n",
            "■実行結果：\n",
            "(1, 'あ行', 'あいうえお')\n",
            "(2, 'か行', 'かきくけこ')\n",
            "(3, 'さ行', 'さしすせそ')\n",
            "■処理時間：\n",
            "0.003291606903076172[sec]\n"
          ]
        }
      ]
    }
  ]
}